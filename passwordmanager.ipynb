{
  "cells": [
    {
      "cell_type": "markdown",
      "metadata": {
        "id": "view-in-github",
        "colab_type": "text"
      },
      "source": [
        "<a href=\"https://colab.research.google.com/github/Nishi2065s/Python/blob/main/passwordmanager.ipynb\" target=\"_parent\"><img src=\"https://colab.research.google.com/assets/colab-badge.svg\" alt=\"Open In Colab\"/></a>"
      ]
    },
    {
      "cell_type": "code",
      "execution_count": null,
      "metadata": {
        "id": "vQeG29XRvlvc"
      },
      "outputs": [],
      "source": [
        "!git clone https://github.com/Nishi2065s/security-.git"
      ]
    },
    {
      "cell_type": "code",
      "execution_count": null,
      "metadata": {
        "id": "CCP-9vowPWea"
      },
      "outputs": [],
      "source": [
        "!pip install bcrypt"
      ]
    },
    {
      "cell_type": "code",
      "execution_count": null,
      "metadata": {
        "id": "QL_agQvaZtyd"
      },
      "outputs": [],
      "source": [
        "!apt-get install -y hashcat\n"
      ]
    },
    {
      "cell_type": "code",
      "execution_count": null,
      "metadata": {
        "id": "4ZH6yujIsC8P"
      },
      "outputs": [],
      "source": [
        "!hashcat --version\n"
      ]
    },
    {
      "cell_type": "code",
      "execution_count": null,
      "metadata": {
        "id": "P1GNGi_Btn3K"
      },
      "outputs": [],
      "source": [
        "!ls /usr/share/wordlists/"
      ]
    },
    {
      "cell_type": "code",
      "execution_count": null,
      "metadata": {
        "id": "nwHocWiAsZST"
      },
      "outputs": [],
      "source": [
        "!apt-get install -y wordlists\n",
        "!gunzip /usr/share/wordlists/rockyou.txt.gz"
      ]
    },
    {
      "cell_type": "code",
      "execution_count": null,
      "metadata": {
        "id": "9ApIC6Izt0nt"
      },
      "outputs": [],
      "source": [
        "!wget https://github.com/brannondorsey/naive-hashcat/releases/download/data/rockyou.txt\n"
      ]
    },
    {
      "cell_type": "code",
      "execution_count": null,
      "metadata": {
        "id": "rcoyWTY_uGH2"
      },
      "outputs": [],
      "source": [
        "!mkdir -p /usr/share/wordlists\n",
        "!mv rockyou.txt /usr/share/wordlists/"
      ]
    },
    {
      "cell_type": "code",
      "execution_count": null,
      "metadata": {
        "id": "3I1w9w5nA7om"
      },
      "outputs": [],
      "source": [
        "import hashlib\n",
        "import bcrypt\n",
        "import time\n",
        "import random\n",
        "import multiprocessing\n",
        "from hashlib import sha256\n",
        "from itertools import product\n",
        "import string"
      ]
    },
    {
      "cell_type": "code",
      "execution_count": null,
      "metadata": {
        "id": "Czub83fztJ0N"
      },
      "outputs": [],
      "source": [
        "import hashlib\n",
        "import time\n",
        "import subprocess\n",
        "import os\n",
        "from hashlib import sha256\n",
        "import random\n",
        "import string\n",
        "\n",
        "# Blockchain class for digital signature authentication\n",
        "class Blockchain:\n",
        "    def __init__(self):\n",
        "        self.chain = []\n",
        "        self.create_block(previous_hash='0')  # Genesis block\n",
        "\n",
        "    def create_block(self, previous_hash, data=None):\n",
        "        block = {\n",
        "            'index': len(self.chain) + 1,\n",
        "            'data': data,\n",
        "            'previous_hash': previous_hash,\n",
        "            'hash': self.hash_block(previous_hash + (data or ''))\n",
        "        }\n",
        "        self.chain.append(block)\n",
        "        return block\n",
        "\n",
        "    def hash_block(self, data):\n",
        "        return sha256(data.encode()).hexdigest()\n",
        "\n",
        "    def get_last_block(self):\n",
        "        return self.chain[-1] if self.chain else None\n",
        "\n",
        "# Use Hashcat for password cracking\n",
        "def crack_with_hashcat(password, time_limit=240):\n",
        "    start_time = time.time()\n",
        "    hash_file = \"hashes.txt\"\n",
        "    output_file = \"cracked.txt\"\n",
        "\n",
        "    hashed_password = sha256(password.encode()).hexdigest()\n",
        "\n",
        "    with open(hash_file, \"w\") as f:\n",
        "        f.write(f\"{hashed_password}\\n\")\n",
        "\n",
        "    command = [\n",
        "        \"hashcat\", \"-m\", \"1400\", hash_file, \"/usr/share/wordlists/rockyou.txt\", \"--force\",\n",
        "        \"--outfile\", output_file, \"--runtime\", str(time_limit), \"--attack-mode=0\"\n",
        "    ]\n",
        "\n",
        "    try:\n",
        "        result = subprocess.run(command, check=True, stdout=subprocess.PIPE, stderr=subprocess.PIPE)\n",
        "        print(result.stdout.decode())\n",
        "        print(result.stderr.decode())\n",
        "    except subprocess.CalledProcessError as e:\n",
        "        print(\"Error running Hashcat:\", e.stderr.decode())\n",
        "        return None, time.time() - start_time\n",
        "\n",
        "    if os.path.exists(output_file) and os.path.getsize(output_file) > 0:\n",
        "        with open(output_file, \"r\") as f:\n",
        "            cracked_password = f.readline().strip().split(':')[-1]\n",
        "            return cracked_password, time.time() - start_time\n",
        "    return None, time.time() - start_time\n",
        "\n",
        "# Password Manager Class\n",
        "class PasswordManager:\n",
        "    def __init__(self):\n",
        "        self.blockchain = Blockchain()\n",
        "\n",
        "    def derive_signature(self, password):\n",
        "        return sha256(password.encode()).hexdigest()\n",
        "\n",
        "    def test_password_strength(self, password):\n",
        "        print(\"Testing password strength...\")\n",
        "        cracked_password, time_taken = crack_with_hashcat(password)\n",
        "\n",
        "        if cracked_password:\n",
        "            print(f\"Weak Password! Cracked in {time_taken:.2f} seconds. Reset your password.\")\n",
        "            return False\n",
        "        else:\n",
        "            print(\"Strong Password! Not cracked within 4 minutes.\")\n",
        "            return True\n",
        "\n",
        "    def authenticate(self, password):\n",
        "        user_signature = self.derive_signature(password)\n",
        "        last_block = self.blockchain.get_last_block()\n",
        "\n",
        "        if last_block and last_block['data'] == user_signature:\n",
        "            print(\"Authentication successful!\")\n",
        "            return True\n",
        "        print(\"Authentication failed!\")\n",
        "        return False\n",
        "\n",
        "    def store_user(self, username, password):\n",
        "        user_signature = self.derive_signature(password)\n",
        "\n",
        "        print(f\"Password stored securely for {username}.\")\n",
        "        print(f\"Generated Digital Signature: {user_signature}\")\n",
        "\n",
        "        # Store signature in blockchain\n",
        "        self.blockchain.create_block(previous_hash=self.blockchain.get_last_block()['hash'], data=user_signature)\n",
        "        print(\"Digital Signature recorded in Blockchain.\")\n",
        "\n",
        "        return user_signature\n",
        "\n",
        "# Testing the system\n",
        "if __name__ == \"__main__\":\n",
        "    pm = PasswordManager()\n",
        "\n",
        "    username = input(\"Enter username: \").strip()\n",
        "    password = input(\"Enter password: \").strip()\n",
        "\n",
        "    if pm.test_password_strength(password):\n",
        "        _ = pm.store_user(username, password)\n",
        "        auth_attempt = input(\"Enter your password to authenticate: \").strip()\n",
        "        pm.authenticate(auth_attempt)"
      ]
    }
  ],
  "metadata": {
    "colab": {
      "provenance": [],
      "include_colab_link": true
    },
    "kernelspec": {
      "display_name": "Python 3",
      "name": "python3"
    },
    "language_info": {
      "name": "python"
    }
  },
  "nbformat": 4,
  "nbformat_minor": 0
}